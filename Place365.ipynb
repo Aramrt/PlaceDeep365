{
 "cells": [
  {
   "cell_type": "code",
   "execution_count": 3,
   "metadata": {},
   "outputs": [],
   "source": [
    "from vgg16_places_365 import VGG16_Places365\n",
    "base_model = VGG16_Places365(include_top=False, weights='places', input_shape=(150, 150, 3))\n",
    "for layer in base_model.layers[:12]:\n",
    "    layer.trainable = True\n",
    "for layer in base_model.layers[12:]:\n",
    "    layer.trainable = False"
   ]
  },
  {
   "cell_type": "code",
   "execution_count": 6,
   "metadata": {},
   "outputs": [],
   "source": [
    "from keras import models\n",
    "from keras import layers\n",
    "model = models.Sequential()\n",
    "model.add(base_model)\n",
    "model.add(layers.Flatten())\n",
    "model.add(layers.Dense(256, activation='relu'))\n",
    "model.add(layers.Dense(3, activation='softmax'))"
   ]
  },
  {
   "cell_type": "code",
   "execution_count": 11,
   "metadata": {},
   "outputs": [
    {
     "name": "stdout",
     "output_type": "stream",
     "text": [
      "Found 600 images belonging to 3 classes.\n",
      "Found 150 images belonging to 3 classes.\n"
     ]
    }
   ],
   "source": [
    "from keras.preprocessing.image import ImageDataGenerator\n",
    "from keras import optimizers\n",
    "train_datagen = ImageDataGenerator(\n",
    "    rescale=1./255,\n",
    "    rotation_range=40,\n",
    "    shear_range=0.2,\n",
    "    zoom_range=0.2,\n",
    "    fill_mode='nearest'\n",
    ")\n",
    " \n",
    "test_datagen = ImageDataGenerator(rescale=1./255)\n",
    " \n",
    "train_dir = './Places/train'\n",
    "validation_dir = './Places/validation'\n",
    " \n",
    "train_generator = train_datagen.flow_from_directory(\n",
    "        # This is the target directory\n",
    "        train_dir,\n",
    "        # All images will be resized to 108x192\n",
    "        target_size=(150, 150),\n",
    "        batch_size=20,\n",
    "        # Since we use categorical_crossentropy loss, we need categorical labels\n",
    "        class_mode='categorical')\n",
    " \n",
    "validation_generator = test_datagen.flow_from_directory(\n",
    "        validation_dir,\n",
    "        target_size=(150, 150),\n",
    "        batch_size=20,\n",
    "        class_mode='categorical')\n",
    " \n",
    " \n"
   ]
  },
  {
   "cell_type": "code",
   "execution_count": 12,
   "metadata": {},
   "outputs": [
    {
     "name": "stdout",
     "output_type": "stream",
     "text": [
      "WARNING:tensorflow:From C:\\Users\\Aram\\anaconda3\\lib\\site-packages\\keras\\backend\\tensorflow_backend.py:422: The name tf.global_variables is deprecated. Please use tf.compat.v1.global_variables instead.\n",
      "\n",
      "Epoch 1/10\n",
      "30/30 [==============================] - 174s 6s/step - loss: 1.0600 - acc: 0.6450 - val_loss: 0.4584 - val_acc: 0.9067\n",
      "Epoch 2/10\n",
      "30/30 [==============================] - 176s 6s/step - loss: 0.6595 - acc: 0.8333 - val_loss: 0.4478 - val_acc: 0.9333\n",
      "Epoch 3/10\n",
      "30/30 [==============================] - 176s 6s/step - loss: 0.5242 - acc: 0.9017 - val_loss: 0.2553 - val_acc: 0.9667\n",
      "Epoch 4/10\n",
      "30/30 [==============================] - 177s 6s/step - loss: 0.4502 - acc: 0.9367 - val_loss: 0.5771 - val_acc: 0.9600\n",
      "Epoch 5/10\n",
      "30/30 [==============================] - 176s 6s/step - loss: 0.3949 - acc: 0.9433 - val_loss: 0.7815 - val_acc: 0.9667\n",
      "Epoch 6/10\n",
      "30/30 [==============================] - 177s 6s/step - loss: 0.3734 - acc: 0.9517 - val_loss: 0.2854 - val_acc: 0.9733\n",
      "Epoch 7/10\n",
      "30/30 [==============================] - 180s 6s/step - loss: 0.3553 - acc: 0.9567 - val_loss: 0.4008 - val_acc: 0.9667\n",
      "Epoch 8/10\n",
      "30/30 [==============================] - 177s 6s/step - loss: 0.3280 - acc: 0.9717 - val_loss: 0.2373 - val_acc: 0.9733\n",
      "Epoch 9/10\n",
      "30/30 [==============================] - 187s 6s/step - loss: 0.3129 - acc: 0.9717 - val_loss: 0.2359 - val_acc: 0.9800\n",
      "Epoch 10/10\n",
      "30/30 [==============================] - 192s 6s/step - loss: 0.3021 - acc: 0.9733 - val_loss: 0.3087 - val_acc: 0.9800\n"
     ]
    }
   ],
   "source": [
    "model.compile(loss='categorical_crossentropy',\n",
    "            optimizer=optimizers.RMSprop(lr=2e-5),\n",
    "            metrics=['acc'])\n",
    "num_of_sample_train = 600\n",
    "num_of_sample_validation = 150\n",
    "\n",
    "batch_size = 20\n",
    "history = model.fit_generator(\n",
    "    train_generator,\n",
    "    steps_per_epoch=num_of_sample_train/batch_size,\n",
    "    epochs=10,\n",
    "    validation_data=validation_generator,\n",
    "    validation_steps=num_of_sample_validation/batch_size)"
   ]
  },
  {
   "cell_type": "code",
   "execution_count": 47,
   "metadata": {},
   "outputs": [],
   "source": [
    "from keras.preprocessing import image\n",
    "from keras.models import load_model\n",
    "import keras"
   ]
  },
  {
   "cell_type": "code",
   "execution_count": 48,
   "metadata": {},
   "outputs": [],
   "source": [
    "from keras import backend as K\n",
    "def preprocess_input(x, dim_ordering='default'):\n",
    "    if dim_ordering == 'default':\n",
    "        dim_ordering = K.common.image_dim_ordering()\n",
    "    assert dim_ordering in {'tf', 'th'}\n",
    "    \n",
    "    if dim_ordering == 'th':\n",
    "        x[:, 0, :, :] -= 104.006\n",
    "        x[:, 1, :, :] -= 116.669\n",
    "        x[:, 2, :, :] -= 122.679\n",
    "        x = x[:, ::-1, :, :]\n",
    "    \n",
    "    else:\n",
    "        x[:, :, :, 0] -= 104.006\n",
    "        x[:, :, :, 1] -= 116.669\n",
    "        x[:, :, :, 2] -= 122.679\n",
    "        x = x[:, :, :, ::-1]\n",
    "    return x"
   ]
  },
  {
   "cell_type": "code",
   "execution_count": 57,
   "metadata": {},
   "outputs": [],
   "source": [
    "import numpy as np\n",
    "#Tagh_Bostan picture\n",
    "ImageAddress = 'E:/2.jpg'\n",
    "img = image.load_img(ImageAddress, target_size=(150, 150))\n",
    "x = image.img_to_array(img)\n",
    "x = np.expand_dims(x, axis=0)\n",
    "x = preprocess_input(x)"
   ]
  },
  {
   "cell_type": "code",
   "execution_count": 58,
   "metadata": {},
   "outputs": [],
   "source": [
    "prediction = model.predict(x)\n",
    "y_classes = prediction.argmax()"
   ]
  },
  {
   "cell_type": "code",
   "execution_count": 59,
   "metadata": {},
   "outputs": [],
   "source": [
    "labels = ['Azadi', 'Emam_Reza', 'Tagh_Bostan']"
   ]
  },
  {
   "cell_type": "code",
   "execution_count": 60,
   "metadata": {},
   "outputs": [
    {
     "name": "stdout",
     "output_type": "stream",
     "text": [
      "Azadi Probability: \t 0.000000\n",
      "Emam_Reza Probability: \t 0.000000\n",
      "Tagh_Bostan Probability: \t 1.000000\n"
     ]
    }
   ],
   "source": [
    "for i, p in enumerate(prediction[0]):\n",
    "    print('%s Probability: \\t %f' % (labels[i], p))"
   ]
  },
  {
   "cell_type": "code",
   "execution_count": null,
   "metadata": {},
   "outputs": [],
   "source": []
  }
 ],
 "metadata": {
  "kernelspec": {
   "display_name": "Python 3",
   "language": "python",
   "name": "python3"
  },
  "language_info": {
   "codemirror_mode": {
    "name": "ipython",
    "version": 3
   },
   "file_extension": ".py",
   "mimetype": "text/x-python",
   "name": "python",
   "nbconvert_exporter": "python",
   "pygments_lexer": "ipython3",
   "version": "3.7.6"
  }
 },
 "nbformat": 4,
 "nbformat_minor": 4
}
